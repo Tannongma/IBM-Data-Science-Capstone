{
 "cells": [
  {
   "cell_type": "markdown",
   "metadata": {},
   "source": [
    "# **Build a Dashboard Application with Plotly Dash**"
   ]
  },
  {
   "cell_type": "code",
   "execution_count": 2,
   "metadata": {},
   "outputs": [
    {
     "name": "stdout",
     "output_type": "stream",
     "text": [
      "Requirement already satisfied: pandas in c:\\users\\bonaventure\\anaconda3\\lib\\site-packages (1.1.3)\n",
      "Requirement already satisfied: dash in c:\\users\\bonaventure\\anaconda3\\lib\\site-packages (2.6.1)\n",
      "Requirement already satisfied: pytz>=2017.2 in c:\\users\\bonaventure\\anaconda3\\lib\\site-packages (from pandas) (2020.1)\n",
      "Requirement already satisfied: numpy>=1.15.4 in c:\\users\\bonaventure\\anaconda3\\lib\\site-packages (from pandas) (1.19.2)\n",
      "Requirement already satisfied: python-dateutil>=2.7.3 in c:\\users\\bonaventure\\anaconda3\\lib\\site-packages (from pandas) (2.8.1)\n",
      "Requirement already satisfied: flask-compress in c:\\users\\bonaventure\\anaconda3\\lib\\site-packages (from dash) (1.12)\n",
      "Requirement already satisfied: Flask>=1.0.4 in c:\\users\\bonaventure\\anaconda3\\lib\\site-packages (from dash) (1.1.2)\n",
      "Requirement already satisfied: dash-table==5.0.0 in c:\\users\\bonaventure\\anaconda3\\lib\\site-packages (from dash) (5.0.0)\n",
      "Requirement already satisfied: plotly>=5.0.0 in c:\\users\\bonaventure\\anaconda3\\lib\\site-packages (from dash) (5.10.0)\n",
      "Requirement already satisfied: dash-core-components==2.0.0 in c:\\users\\bonaventure\\anaconda3\\lib\\site-packages (from dash) (2.0.0)\n",
      "Requirement already satisfied: dash-html-components==2.0.0 in c:\\users\\bonaventure\\anaconda3\\lib\\site-packages (from dash) (2.0.0)\n",
      "Requirement already satisfied: six>=1.5 in c:\\users\\bonaventure\\anaconda3\\lib\\site-packages (from python-dateutil>=2.7.3->pandas) (1.15.0)\n",
      "Requirement already satisfied: brotli in c:\\users\\bonaventure\\anaconda3\\lib\\site-packages (from flask-compress->dash) (1.0.9)\n",
      "Requirement already satisfied: Jinja2>=2.10.1 in c:\\users\\bonaventure\\anaconda3\\lib\\site-packages (from Flask>=1.0.4->dash) (2.11.2)\n",
      "Requirement already satisfied: click>=5.1 in c:\\users\\bonaventure\\anaconda3\\lib\\site-packages (from Flask>=1.0.4->dash) (7.1.2)\n",
      "Requirement already satisfied: Werkzeug>=0.15 in c:\\users\\bonaventure\\anaconda3\\lib\\site-packages (from Flask>=1.0.4->dash) (1.0.1)\n",
      "Requirement already satisfied: itsdangerous>=0.24 in c:\\users\\bonaventure\\anaconda3\\lib\\site-packages (from Flask>=1.0.4->dash) (1.1.0)\n",
      "Requirement already satisfied: tenacity>=6.2.0 in c:\\users\\bonaventure\\anaconda3\\lib\\site-packages (from plotly>=5.0.0->dash) (8.0.1)\n",
      "Requirement already satisfied: MarkupSafe>=0.23 in c:\\users\\bonaventure\\anaconda3\\lib\\site-packages (from Jinja2>=2.10.1->Flask>=1.0.4->dash) (1.1.1)\n",
      "Note: you may need to restart the kernel to use updated packages.\n"
     ]
    }
   ],
   "source": [
    "pip install pandas dash"
   ]
  },
  {
   "cell_type": "code",
   "execution_count": 3,
   "metadata": {},
   "outputs": [
    {
     "name": "stdout",
     "output_type": "stream",
     "text": [
      "Requirement already satisfied: wget in c:\\users\\bonaventure\\anaconda3\\lib\\site-packages (3.2)\n",
      "Note: you may need to restart the kernel to use updated packages.\n"
     ]
    }
   ],
   "source": [
    "pip install wget"
   ]
  },
  {
   "cell_type": "code",
   "execution_count": 4,
   "metadata": {},
   "outputs": [
    {
     "data": {
      "text/plain": [
       "'spacex_launch_dash (15).csv'"
      ]
     },
     "execution_count": 4,
     "metadata": {},
     "output_type": "execute_result"
    }
   ],
   "source": [
    "import wget\n",
    "url = \"https://cf-courses-data.s3.us.cloud-object-storage.appdomain.cloud/IBM-DS0321EN-SkillsNetwork/datasets/spacex_launch_dash.csv\"\n",
    "filename = wget.download(url)\n",
    "filename"
   ]
  },
  {
   "cell_type": "code",
   "execution_count": 5,
   "metadata": {},
   "outputs": [
    {
     "data": {
      "text/plain": [
       "'spacex_dash_app (15).py'"
      ]
     },
     "execution_count": 5,
     "metadata": {},
     "output_type": "execute_result"
    }
   ],
   "source": [
    "url = \"https://cf-courses-data.s3.us.cloud-object-storage.appdomain.cloud/IBM-DS0321EN-SkillsNetwork/labs/module_3/spacex_dash_app.py\"\n",
    "filename = wget.download(url)\n",
    "filename"
   ]
  },
  {
   "cell_type": "code",
   "execution_count": null,
   "metadata": {},
   "outputs": [
    {
     "name": "stderr",
     "output_type": "stream",
     "text": [
      "<ipython-input-6-41f50f61518e>:4: UserWarning: \n",
      "The dash_html_components package is deprecated. Please replace\n",
      "`import dash_html_components as html` with `from dash import html`\n",
      "  import dash_html_components as html\n",
      "<ipython-input-6-41f50f61518e>:5: UserWarning: \n",
      "The dash_core_components package is deprecated. Please replace\n",
      "`import dash_core_components as dcc` with `from dash import dcc`\n",
      "  import dash_core_components as dcc\n"
     ]
    },
    {
     "name": "stdout",
     "output_type": "stream",
     "text": [
      "Dash is running on http://127.0.0.1:8050/\n",
      "\n",
      " * Serving Flask app \"__main__\" (lazy loading)\n",
      " * Environment: production\n",
      "   WARNING: This is a development server. Do not use it in a production deployment.\n",
      "   Use a production WSGI server instead.\n",
      " * Debug mode: off\n"
     ]
    },
    {
     "name": "stderr",
     "output_type": "stream",
     "text": [
      " * Running on http://127.0.0.1:8050/ (Press CTRL+C to quit)\n",
      "127.0.0.1 - - [20/Aug/2022 06:15:02] \"\u001b[37mGET / HTTP/1.1\u001b[0m\" 200 -\n",
      "127.0.0.1 - - [20/Aug/2022 06:15:04] \"\u001b[37mGET /_favicon.ico?v=2.6.1 HTTP/1.1\u001b[0m\" 200 -\n",
      "127.0.0.1 - - [20/Aug/2022 06:15:04] \"\u001b[37mGET /_dash-layout HTTP/1.1\u001b[0m\" 200 -\n",
      "127.0.0.1 - - [20/Aug/2022 06:15:04] \"\u001b[37mGET /_dash-dependencies HTTP/1.1\u001b[0m\" 200 -\n",
      "127.0.0.1 - - [20/Aug/2022 06:15:04] \"\u001b[37mGET /_dash-component-suites/dash/dcc/async-dropdown.js HTTP/1.1\u001b[0m\" 200 -\n",
      "127.0.0.1 - - [20/Aug/2022 06:15:04] \"\u001b[37mGET /_dash-component-suites/dash/dcc/async-graph.js HTTP/1.1\u001b[0m\" 200 -\n",
      "127.0.0.1 - - [20/Aug/2022 06:15:04] \"\u001b[37mGET /_dash-component-suites/dash/dcc/async-slider.js HTTP/1.1\u001b[0m\" 200 -\n",
      "127.0.0.1 - - [20/Aug/2022 06:15:04] \"\u001b[37mGET /_dash-component-suites/dash/dcc/async-plotlyjs.js HTTP/1.1\u001b[0m\" 200 -\n",
      "127.0.0.1 - - [20/Aug/2022 06:15:05] \"\u001b[37mPOST /_dash-update-component HTTP/1.1\u001b[0m\" 200 -\n",
      "127.0.0.1 - - [20/Aug/2022 06:15:05] \"\u001b[37mPOST /_dash-update-component HTTP/1.1\u001b[0m\" 200 -\n",
      "127.0.0.1 - - [20/Aug/2022 06:15:14] \"\u001b[37mPOST /_dash-update-component HTTP/1.1\u001b[0m\" 200 -\n",
      "127.0.0.1 - - [20/Aug/2022 06:15:14] \"\u001b[37mPOST /_dash-update-component HTTP/1.1\u001b[0m\" 200 -\n",
      "127.0.0.1 - - [20/Aug/2022 06:15:18] \"\u001b[37mPOST /_dash-update-component HTTP/1.1\u001b[0m\" 200 -\n",
      "127.0.0.1 - - [20/Aug/2022 06:15:18] \"\u001b[37mPOST /_dash-update-component HTTP/1.1\u001b[0m\" 200 -\n"
     ]
    }
   ],
   "source": [
    "# Import required libraries\n",
    "import pandas as pd\n",
    "import dash\n",
    "import dash_html_components as html\n",
    "import dash_core_components as dcc\n",
    "from dash.dependencies import Input, Output\n",
    "import plotly.express as px\n",
    "\n",
    "# Read the airline data into pandas dataframe\n",
    "spacex_df = pd.read_csv(\"spacex_launch_dash.csv\")\n",
    "max_payload = spacex_df['Payload Mass (kg)'].max()\n",
    "min_payload = spacex_df['Payload Mass (kg)'].min()\n",
    "\n",
    "# Create a dash application\n",
    "app = dash.Dash(__name__)\n",
    "\n",
    "# Create an app layout\n",
    "app.layout = html.Div(children=[html.H1('SpaceX Launch Records Dashboard',\n",
    "                                        style={'textAlign': 'center', 'color': '#503D36',\n",
    "                                               'font-size': 40}),\n",
    "                                # TASK 1: Add a dropdown list to enable Launch Site selection\n",
    "                                # The default select value is for ALL sites\n",
    "                                # dcc.Dropdown(id='site-dropdown',...)\n",
    "                                dcc.Dropdown(id='site-dropdown', \n",
    "                                                options=[{'label': 'All Sites', 'value': 'ALL'},\n",
    "                                                    {'label': 'CCAFS LC-40', 'value': 'CCAFS LC-40'},\n",
    "                                                    {'label': 'CCAFS SLC-40', 'value': 'CCAFS SLC-40'},\n",
    "                                                    {'label': 'KSC LC-39A', 'value': 'KSC LC-39A'},\n",
    "                                                    {'label': 'VAFB SLC-4E', 'value': 'VAFB SLC-4E'}\n",
    "                                                ], \n",
    "                                                value='ALL',\n",
    "                                                placeholder=\"Select a launch site\",\n",
    "                                                searchable=True\n",
    "                                            ),\n",
    "                                html.Br(),\n",
    "\n",
    "                                # TASK 2: Add a pie chart to show the total successful launches count for all sites\n",
    "                                # If a specific launch site was selected, show the Success vs. Failed counts for the site\n",
    "                                html.Div(dcc.Graph(id='success-pie-chart')),\n",
    "                                html.Br(),\n",
    "\n",
    "                                html.P(\"Payload range (Kg):\"),\n",
    "                                # TASK 3: Add a slider to select payload range\n",
    "                                dcc.RangeSlider(id='payload-slider',\n",
    "                                    min=0, max=10000, step=100,\n",
    "                                    marks={0: '0',\n",
    "                                           1000: '1000',\n",
    "                                           2000: '2000',\n",
    "                                           3000: '3000',\n",
    "                                           4000: '4000',\n",
    "                                           5000: '5000',\n",
    "                                           6000: '6000',\n",
    "                                           7000: '7000',\n",
    "                                           8000: '8000',\n",
    "                                           9000: '9000',\n",
    "                                           10000: '10000'},\n",
    "                                    value=[min_payload, max_payload]),\n",
    "\n",
    "                                # TASK 4: Add a scatter chart to show the correlation between payload and launch success\n",
    "                                html.Div(dcc.Graph(id='success-payload-scatter-chart')),\n",
    "                                ])\n",
    "\n",
    "# TASK 2:\n",
    "# Add a callback function for `site-dropdown` as input, `success-pie-chart` as output\n",
    "@app.callback(Output(component_id='success-pie-chart', component_property='figure'),\n",
    "Input(component_id='site-dropdown', component_property='value'))\n",
    "def get_pie_chart(entered_site):\n",
    "    filtered_df = spacex_df\n",
    "    if entered_site == 'ALL':\n",
    "        fig = px.pie(filtered_df, values='class', \n",
    "        names='Launch Site', \n",
    "        title='Total Success Launches By Site')\n",
    "        return fig\n",
    "    else:\n",
    "        dfx = filtered_df.groupby(['Launch Site','class']).size().reset_index(name='class count')\n",
    "        filtered_dfn = dfx[dfx['Launch Site'] == entered_site]\n",
    "        value = 'class count'\n",
    "        # return the outcomes piechart for a selected site\n",
    "        fig = px.pie(filtered_dfn, values= value, \n",
    "        title=f'Successes vs. failures pie-chart for {entered_site}',\n",
    "        names= [\"Fail\", \"Success\"])\n",
    "        return fig\n",
    "# TASK 4:\n",
    "# Add a callback function for `site-dropdown` and `payload-slider` as inputs, `success-payload-scatter-chart` as output\n",
    "@app.callback(Output(component_id='success-payload-scatter-chart', component_property='figure'),\n",
    "[Input(component_id='site-dropdown', component_property='value'),\n",
    "Input(component_id=\"payload-slider\", component_property=\"value\")])\n",
    "def get_scatter_plot(entered_site, slider_range):\n",
    "    low, high = slider_range\n",
    "    filtered_df = spacex_df\n",
    "    filtered_df1 =  filtered_df[(filtered_df['Payload Mass (kg)'] > low) & (filtered_df['Payload Mass (kg)'] < high)]\n",
    "    filtered_df2 = filtered_df1[filtered_df1['Launch Site'] == entered_site]\n",
    "    \n",
    "    if entered_site == 'ALL':\n",
    "        fig = px.scatter(filtered_df1, x= \"Payload Mass (kg)\",\n",
    "        y='class', \n",
    "        color=\"Booster Version Category\",\n",
    "        title = \"Correlation between payload and success for all sites\")\n",
    "        return fig\n",
    "    else:\n",
    "        # return the outcomes piechart for a selected site\n",
    "        fig = px.scatter(filtered_df2, x='Payload Mass (kg)', \n",
    "        y='class', \n",
    "        color=\"Booster Version Category\",\n",
    "        title = f'Success by Payload Size for {entered_site}')\n",
    "        return fig\n",
    "\n",
    "# Run the app\n",
    "if __name__ == '__main__':\n",
    "    app.run_server()\n"
   ]
  },
  {
   "cell_type": "code",
   "execution_count": null,
   "metadata": {},
   "outputs": [],
   "source": []
  }
 ],
 "metadata": {
  "kernelspec": {
   "display_name": "Python 3",
   "language": "python",
   "name": "python3"
  },
  "language_info": {
   "codemirror_mode": {
    "name": "ipython",
    "version": 3
   },
   "file_extension": ".py",
   "mimetype": "text/x-python",
   "name": "python",
   "nbconvert_exporter": "python",
   "pygments_lexer": "ipython3",
   "version": "3.8.5"
  }
 },
 "nbformat": 4,
 "nbformat_minor": 4
}
